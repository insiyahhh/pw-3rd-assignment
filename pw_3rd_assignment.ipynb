{
  "nbformat": 4,
  "nbformat_minor": 0,
  "metadata": {
    "colab": {
      "provenance": []
    },
    "kernelspec": {
      "name": "python3",
      "display_name": "Python 3"
    },
    "language_info": {
      "name": "python"
    }
  },
  "cells": [
    {
      "cell_type": "code",
      "execution_count": null,
      "metadata": {
        "id": "zTzB33HlNA9H"
      },
      "outputs": [],
      "source": [
        "#theory"
      ]
    },
    {
      "cell_type": "markdown",
      "source": [
        "answer 1:- the difference between function and method in python is ,functions are independent while methods are tied to objects or classes"
      ],
      "metadata": {
        "id": "QqU8v24XNEMJ"
      }
    },
    {
      "cell_type": "markdown",
      "source": [
        "answer 2:- the concept of fuction arguments are the actual values passed to a function when it is called and parameters are the variables defined in a function's definition"
      ],
      "metadata": {
        "id": "HKVNdo7_Net7"
      }
    },
    {
      "cell_type": "markdown",
      "source": [
        "answer 3:- in python we can define functions by simple function ,default argument values,variable number of argument,keyword argument and lambda functions\n",
        "and we can call functions by positional arguments , keyword arguments ,unpacking arguments and unpacking keyword arguments"
      ],
      "metadata": {
        "id": "enBMNKACOHa7"
      }
    },
    {
      "cell_type": "markdown",
      "source": [
        "answer 4:-the purpose of the return statement in a python function is to output a value and exit the function"
      ],
      "metadata": {
        "id": "bDUGRBaVO3th"
      }
    },
    {
      "cell_type": "markdown",
      "source": [
        "answer 5:-in python ,iterables are objects like lists or strings that can be looped through .Iterators are created from iterables using iter() functions"
      ],
      "metadata": {
        "id": "nAtX5XXdPQFy"
      }
    },
    {
      "cell_type": "markdown",
      "source": [
        "answer 6:-in python ,generators are special functions that can be used to generate a sequence of values on the fly ,rather than computing them all at once and storing them in memory"
      ],
      "metadata": {
        "id": "5A9-rVjPP0Rl"
      }
    },
    {
      "cell_type": "markdown",
      "source": [
        "answer 7:- advantages of generators over regular functions are memory effciency, improved performance ,handling infinite sequences ,flexibility and lazy evalution"
      ],
      "metadata": {
        "id": "CSC269sYQc-m"
      }
    },
    {
      "cell_type": "markdown",
      "source": [
        "answer 8:-in python lambda function is used as small,anonymous function that can take arguments and return a value.Typically used for short ,one time tasks,like data processing or event handling"
      ],
      "metadata": {
        "id": "pQBKqcZ3Q_VO"
      }
    },
    {
      "cell_type": "markdown",
      "source": [
        "answer 9:-the purpose of map() function is to data transfer and simplify the code"
      ],
      "metadata": {
        "id": "O0P3LG5HRiJh"
      }
    },
    {
      "cell_type": "markdown",
      "source": [
        "answer10:-map applies a function to each element of an iterable ,transforming the data\n",
        "filter selects elements from an iterable based on a condition ,filtering out unwanted data\n",
        "reduce combines elements of an iterable into a single output"
      ],
      "metadata": {
        "id": "M87anmFTR3Rg"
      }
    },
    {
      "cell_type": "code",
      "source": [
        "#practical answers"
      ],
      "metadata": {
        "id": "cokfNZ2NSgtN"
      },
      "execution_count": null,
      "outputs": []
    },
    {
      "cell_type": "code",
      "source": [
        "# answer 1:-\n",
        "def sum_even_numbers(numbers) :\n",
        "  return sum(num for num in numbers if num % 2 == 0)"
      ],
      "metadata": {
        "id": "iZMd0-azSkZq"
      },
      "execution_count": 1,
      "outputs": []
    },
    {
      "cell_type": "code",
      "source": [
        "#answer 2:\n",
        "def reverse(S) :\n",
        "  return s[::-1]"
      ],
      "metadata": {
        "id": "Hh-4kYX4THDm"
      },
      "execution_count": null,
      "outputs": []
    },
    {
      "cell_type": "code",
      "source": [
        "#answer 3:\n",
        "def square_numbers(numbers) :\n",
        "  return [num ** 2 for num in numbers]"
      ],
      "metadata": {
        "id": "4w1VvR5ITTqP"
      },
      "execution_count": null,
      "outputs": []
    },
    {
      "cell_type": "code",
      "source": [
        "#answer 4:\n",
        "def primenumber(n) :\n",
        "  for num in range(1,201):\n",
        "    if num > 1:\n",
        "      for i in range(2,num):\n",
        "        if (num % i) == 0:\n",
        "          break\n",
        "      else:\n",
        "        print(num)"
      ],
      "metadata": {
        "id": "HAznUKC8TjPZ"
      },
      "execution_count": null,
      "outputs": []
    },
    {
      "cell_type": "code",
      "source": [
        "#answer 5:\n",
        "fib = Fibonacci(10)\n",
        "for num in fib:\n",
        "  print(num)"
      ],
      "metadata": {
        "id": "zim2pGg3UM20"
      },
      "execution_count": null,
      "outputs": []
    },
    {
      "cell_type": "code",
      "source": [
        "#answer 6:-\n",
        "def square(n)\n",
        "for i in range(n+1):\n",
        "  yield 2 ** i\n",
        "\n",
        "  for num in square(5):\n",
        "    print(num)"
      ],
      "metadata": {
        "id": "B8ste5V8Ul7t"
      },
      "execution_count": null,
      "outputs": []
    },
    {
      "cell_type": "code",
      "source": [
        "#answer 7 :-\n",
        "def readfile(file_print):\n",
        "  with open(file_print, 'r') as file:\n",
        "    for line in file:\n",
        "      yield line.strip()\n",
        "\n",
        "for line in readfile('example.txt'):\n",
        "  print(line)"
      ],
      "metadata": {
        "id": "KJ_KCC-iVGZr"
      },
      "execution_count": null,
      "outputs": []
    },
    {
      "cell_type": "code",
      "source": [
        "#answer 8:-\n",
        "doubles = [(1,3.5),(2,1.2),(3,4.8),(4,2,1)]\n",
        "doubles1 = sorted(doubles, key=lambda x: x[1])\n",
        "print(doubles1)"
      ],
      "metadata": {
        "id": "DkPgcqyTVfQ7"
      },
      "execution_count": null,
      "outputs": []
    },
    {
      "cell_type": "code",
      "source": [
        "#answer 9:-\n",
        "celcius_temps = [0,10,20,30,40]\n",
        "fahrenheit_temps = list(map(lambda x: (x * 9/5) + 32, celcius_temps))\n",
        "print(fahrenheit_temps)"
      ],
      "metadata": {
        "id": "4xgHOA6CV_4g"
      },
      "execution_count": null,
      "outputs": []
    },
    {
      "cell_type": "code",
      "source": [
        "#answer 10:-\n",
        "string = \"hello world\"\n",
        "vowels = \"aeiouAEIOU\"\n",
        "result = join(filter(lambda char: char not in vowels, string))\n",
        "print(result)"
      ],
      "metadata": {
        "id": "9fEgAr_oWWff"
      },
      "execution_count": null,
      "outputs": []
    },
    {
      "cell_type": "code",
      "source": [
        "#answer 11:-\n",
        "orders = [\n",
        "    [34587, \"learning python , mark lutz\", 4, 40.95],\n",
        "    [98762, \"programming python , mark lutz\", 5, 56.80],\n",
        "    [77226, \"head first python, paul barry\", 3, 32.95],\n",
        "    [88112, \"einfuhrung in python3 , bernd klein\", 3, 24.99]\n",
        "]\n",
        "\n",
        "result = list(map(lambda order: (order[0], order[2] * order[3] +10 if order[2]*order[3] < 100 else order[2] * order[3]), orders))\n",
        "print(result)"
      ],
      "metadata": {
        "id": "wh2u8i8VXHap"
      },
      "execution_count": null,
      "outputs": []
    },
    {
      "cell_type": "code",
      "source": [],
      "metadata": {
        "id": "h7qdaT4IZVvA"
      },
      "execution_count": null,
      "outputs": []
    }
  ]
}